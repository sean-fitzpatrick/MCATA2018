{
 "cells": [
  {
   "cell_type": "markdown",
   "metadata": {
    "slideshow": {
     "slide_type": "slide"
    }
   },
   "source": [
    "# Open resources for high school mathematics\n",
    "\n",
    "## Geeks Unite 2.0\n",
    "### Edmonton, October 19, 2018\n",
    "\n",
    "#### [Sean Fitzpatrick](http://www.cs.uleth.ca/~fitzpat) -- Dept. of Mathematics and Computer Science, University of Lethbridge\n",
    "#### [Richelle Marynowski](https://uniweb.uleth.ca/members/194) -- Faculty of Education, University of Lethbridge"
   ]
  },
  {
   "cell_type": "markdown",
   "metadata": {
    "slideshow": {
     "slide_type": "slide"
    }
   },
   "source": [
    "## Session outline\n",
    "\n",
    "- Open texts: past, present\n",
    "- Open textbook repositories\n",
    "- Examples of open calculus textooks\n",
    "- Open discussion\n",
    "- Open texts and high school mathematics: planning for the future"
   ]
  },
  {
   "cell_type": "markdown",
   "metadata": {
    "slideshow": {
     "slide_type": "slide"
    }
   },
   "source": [
    "## Some innacurate history\n",
    "\n",
    "Open textbooks, circa 2000: the hastily typed lecture notes your prof provided when someone told them the cost of the assigned textbook."
   ]
  },
  {
   "cell_type": "markdown",
   "metadata": {
    "slideshow": {
     "slide_type": "fragment"
    }
   },
   "source": [
    "In the last decade or so, open texts pick up steam (possibly in reaction to textbook pricing, edition treadmill, digital rights management, etc. etc.)\n",
    "\n",
    "- government funding available in some jurisdictions (BC, USA)\n",
    "- improvements in technology and tools (fancy graphics and other fun)\n",
    "\n",
    "[Open education resources at U of L](http://www.uleth.ca/teachingcentre/open-educational-resources)"
   ]
  },
  {
   "cell_type": "markdown",
   "metadata": {
    "slideshow": {
     "slide_type": "slide"
    }
   },
   "source": [
    "## Finding open textbooks\n",
    "\n",
    "Searching online produces a lot of material. How do you find the good stuff and avoid your old prof's lousy lecture notes?\n",
    "\n",
    "Several organizations now provide OER aggregation and vetting:\n",
    "\n",
    "* [American Institute of Mathematics](https://aimath.org/textbooks/approved-textbooks/)\n",
    "* [BC Campus](https://open.bccampus.ca/find-open-textbooks/)\n",
    "* [University of Minnesota](https://open.umn.edu/opentextbooks/subjects/mathematics)\n",
    "* [The PreTeXt project](https://mathbook.pugetsound.edu/index.html)"
   ]
  },
  {
   "cell_type": "markdown",
   "metadata": {
    "slideshow": {
     "slide_type": "slide"
    }
   },
   "source": [
    "## Some open textbook examples\n",
    "\n",
    "#### Calculus textbooks\n",
    "- [APEX Calculus](http://www.apexcalculus.com/)\n",
    "- [CLP Calculus (UBC)](http://www.math.ubc.ca/~CLP/index.html)\n",
    "- [Active Calculus](https://activecalculus.org/)\n",
    "\n",
    "#### Precalculus textbooks\n",
    "- [Precalculus, (Stitz and Zeager)](http://www.stitz-zeager.com/)\n",
    "- [Modeling, functions, and graphs (Yoshiwara)](https://byoshiwara.github.io/MFG-online/)\n",
    "- [ORCCA](http://spot.pcc.edu/math/orcca/orcca.html)"
   ]
  },
  {
   "cell_type": "markdown",
   "metadata": {
    "slideshow": {
     "slide_type": "slide"
    }
   },
   "source": [
    "## Features: now and soon\n",
    "\n",
    "* [Interactive elements](http://mathbook.pugetsound.edu/examples/sample-article/html/section-interactive-authored.html)\n",
    "\n",
    "* Execises: static, interactive (WeBWorK, MyOpenMath)\n",
    "\n",
    "* Student and instructor editions, with login\n",
    "\n",
    "* [Persistence across editions](https://vimeo.com/263926747)\n"
   ]
  },
  {
   "cell_type": "markdown",
   "metadata": {
    "slideshow": {
     "slide_type": "slide"
    }
   },
   "source": [
    "## Planning for the Future\n",
    "\n",
    "* Technology: PreTeXt, Jupyter ([Callysto](https://callysto.ca))\n",
    "\n",
    "* Collaboration: input from high school teachers, technical support from university faculty\n",
    "\n",
    "* Access: building an open education resource repository for Alberta educators\n"
   ]
  }
 ],
 "metadata": {
  "celltoolbar": "Slideshow",
  "kernelspec": {
   "display_name": "Python 3",
   "language": "python",
   "name": "python3"
  },
  "language_info": {
   "codemirror_mode": {
    "name": "ipython",
    "version": 3
   },
   "file_extension": ".py",
   "mimetype": "text/x-python",
   "name": "python",
   "nbconvert_exporter": "python",
   "pygments_lexer": "ipython3",
   "version": "3.6.5"
  }
 },
 "nbformat": 4,
 "nbformat_minor": 2
}
